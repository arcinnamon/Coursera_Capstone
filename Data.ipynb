{
 "cells": [
  {
   "cell_type": "markdown",
   "metadata": {},
   "source": [
    "# Data"
   ]
  },
  {
   "cell_type": "markdown",
   "metadata": {},
   "source": [
    "The data that will be used for this analysis is a list of Toronto neighborhoods as defined by postcode and borough name. The Foursquare API will be used to identify which neighborhoods have pizza places and how many likes existing venues have in each neighborhood. The number of likes will be used as a measure on online exposure, based on the assumption that more likes equals more online exposure.\n",
    "\n",
    "The data will be reduced to a table where neighborhoods are rows, and each row will have a score based on existence of other pizza restaurants in the neighborhood and a score based on Foursquare likes in the neighborhood. The recommended neighborhoods will have high numbers of likes and low scores of recent pizza places.\n",
    "\n",
    "If the results are inconclusive, other restaurant categories will be used for scoring."
   ]
  }
 ],
 "metadata": {
  "kernelspec": {
   "display_name": "Python 3",
   "language": "python",
   "name": "python3"
  },
  "language_info": {
   "codemirror_mode": {
    "name": "ipython",
    "version": 3
   },
   "file_extension": ".py",
   "mimetype": "text/x-python",
   "name": "python",
   "nbconvert_exporter": "python",
   "pygments_lexer": "ipython3",
   "version": "3.7.4"
  }
 },
 "nbformat": 4,
 "nbformat_minor": 2
}
