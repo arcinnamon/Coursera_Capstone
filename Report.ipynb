{
 "cells": [
  {
   "cell_type": "markdown",
   "metadata": {},
   "source": [
    "# Introduction"
   ]
  },
  {
   "cell_type": "markdown",
   "metadata": {},
   "source": [
    "### Problem Statement"
   ]
  },
  {
   "cell_type": "markdown",
   "metadata": {},
   "source": [
    "A client looking to open a pizza restaurant in Toronto hired my firm (me) to recommend neighborhoods that may be favorable for such a venture. The client requested a list of five recommended neighborhoods that they would explore further."
   ]
  },
  {
   "cell_type": "markdown",
   "metadata": {},
   "source": [
    "### Background"
   ]
  },
  {
   "cell_type": "markdown",
   "metadata": {},
   "source": [
    "The client is confident that a new pizza restaurant will be successful given that (1) there is no nearby competition from existing pizza restaurants and (2) there is good online exposure of other businesses in the neighborhood. The client's reasoning is that a \"pizza-underserved\" area would benefit with a single pizza restaurant (theirs) rather than multiple competitive restaurants and that increased online exposure is important because the client believes that internet searches are the primary way consumers learn of new businesses."
   ]
  },
  {
   "cell_type": "markdown",
   "metadata": {},
   "source": [
    "# Data"
   ]
  },
  {
   "cell_type": "markdown",
   "metadata": {},
   "source": [
    "The data that will be used for this analysis is a list of Toronto neighborhoods as defined by postcode and borough name. The Foursquare API will be used to identify which neighborhoods have pizza places and how many likes existing venues have in each neighborhood. The number of likes will be used as a measure on online exposure, based on the assumption that more likes equals more online exposure.\n",
    "\n",
    "The data will be reduced to a table where neighborhoods are rows, and each row will have a score based on existence of other pizza restaurants in the neighborhood and a score based on Foursquare likes in the neighborhood. The recommended neighborhoods will have high numbers of likes and low scores of recent pizza places.\n",
    "\n",
    "If the results are inconclusive, other venue categories will be used for scoring."
   ]
  },
  {
   "cell_type": "markdown",
   "metadata": {},
   "source": [
    "# Methodology"
   ]
  },
  {
   "cell_type": "markdown",
   "metadata": {},
   "source": [
    "The categories of the venues in each neighborhood will be transformed into a binary value (via one-hot encoding), and those binary values will be averaged for each neighborhood, providing a relative measure of how frequently each category of venue appears in each neighborhood. Filtering to only the \"Pizza Place\" values will provide the frequency of pizza restaurants in each neighborhood, which is the first element in identifying neighborhoods favorable to the client. Neighborhoods with a frequency of 0 denote neighborhoods without pizza restaurants. These are the \"candidate\" neighborhoods for the rest of the analysis.\n",
    "\n",
    "The venues in each of the candidate neighborhoods will be used in a second API call to retrieve the number of Foursquare likes for each venue. The likes will be summed for each neighborhood. Then, this table of likes per neighborhood will be merged with the table of neighborhoods and pizza restaurant frequencies. The five neighborhoods with the lowest pizza restaurant frequencies and the highest like counts will be the neighborhoods recommended to the client."
   ]
  },
  {
   "cell_type": "markdown",
   "metadata": {},
   "source": [
    "### Assumptions"
   ]
  },
  {
   "cell_type": "markdown",
   "metadata": {},
   "source": [
    "- For the purposes of this analysis, it is assumed that the Foursquare API call for venues in a neighborhood is returning all existing pizza restaurants"
   ]
  },
  {
   "cell_type": "markdown",
   "metadata": {},
   "source": [
    "# Results"
   ]
  },
  {
   "cell_type": "markdown",
   "metadata": {},
   "source": [
    "A table of the recommended neighborhoods is below."
   ]
  },
  {
   "cell_type": "markdown",
   "metadata": {},
   "source": [
    "| Neighborhood  | Pizza restaurant frequency | Likes count |\n",
    "|-|-|-|\n",
    "| St James Town | 0 | 13,782 |\n",
    "| Brockton, Exhibition Place, Parkdale Village | 0 | 4,881 |\n",
    "| Cabbagetown, St. James Town | 0 | 1,789 |\n",
    "| Kingsway Park South West, Mimico NW, The Queensway West, Royal York South West, South of Bloor | 0 | 1,609 |\n",
    "| CN Tower, Bathurst Quay, Island airport, Harbourfront West, King and Spadina, Railway Lands, South Niagara | 0 | 1,131 |"
   ]
  },
  {
   "cell_type": "markdown",
   "metadata": {},
   "source": [
    "# Discussion"
   ]
  },
  {
   "cell_type": "markdown",
   "metadata": {},
   "source": [
    "The count of likes per neighborhood is highly skewed, even among the five recommended neighborhoods. This observation representing differences in online exposure is within reason as some neighborhoods may have higher traffic than others.\n",
    "\n",
    "With regard to pizza restaurant frequency, the highest value was around 0.25. This can be interpreted as 1 in 4 venues in a neighborhood were categorized as pizza places. 1 in 4 venues in a neighborhood indicates very high saturation. A small neighborhood with 1 in 4 venues that are pizza restaurants is probably a better candidate than a large neighborhood with, say, 5 of 20 venues listed as pizza places, but both neighborhoods are poorer candidates than lower-scoring neighborhoods."
   ]
  },
  {
   "cell_type": "markdown",
   "metadata": {},
   "source": [
    "A second analysis using neighborhoods with very low yet non-zero pizza restaurant frequencies resulted in two more candidate neighborhoods with very high like counts, as shown in the below table."
   ]
  },
  {
   "cell_type": "markdown",
   "metadata": {},
   "source": [
    "| Neighborhood  | Pizza restaurant frequency | Likes count |\n",
    "|-|-|-|\n",
    "| Adelaide, King, Richmond | 0.020000 | 17,092 |\n",
    "| Berczy Park | 0.010000 | 13,244 |"
   ]
  },
  {
   "cell_type": "markdown",
   "metadata": {},
   "source": [
    "These would also be good candidate neighborhoods for opening a pizza restaurant. One, they contain one or few pizza places among many other types of venues, which drives the pizza restaurant frequency down without beoming zero. Two, the like counts are in the ten thousands (similar to the top result in the main analysis), representing very high online exposure as compared to other neighborhoods."
   ]
  },
  {
   "cell_type": "markdown",
   "metadata": {},
   "source": [
    "# Conclusion"
   ]
  },
  {
   "cell_type": "markdown",
   "metadata": {},
   "source": [
    "The five neighborhoods in the results section are the neighborhoods recommended to the client."
   ]
  },
  {
   "cell_type": "markdown",
   "metadata": {},
   "source": [
    "### Improvements"
   ]
  },
  {
   "cell_type": "markdown",
   "metadata": {},
   "source": [
    "The iterative approach in the Discussion section (working with neighborhoods with non-zero pizza place scores) revealed two candidate neighborhoods that I would have recommended alongside St James Town from the first analysis. This demonstrates the importance of understanding the priority of client's criteria. That is, would the client accept a recommendation of a neighborhood with an existing pizza restaurant that has a higher online exposure value via likes than multiple neighborhoods with zero pizza places? A more in-depth analysis could have weighted pizza restaurant frequency and online exposure via likes for relative importance. This probably would have elevated the Adelaide/King/Richmond and Berczy Park neighborhoods if online exposure were weighted more than the number of existing pizza restaurants in each neighborhood. A weighting approach would be more important especially if more decision criteria were provided by the client.\n",
    "\n",
    "Other data sources could have been used to identify additional pizza restaurants that Foursquare couldn't, but there might not have had a common set of venue categories. Having to map categories from two disparate data sources would have added a level of uncertainty into the analysis.\n",
    "\n",
    "A population and/or population density dimension would also help analyze the recommended neighborhoods. Population data could help determine if like counts are driven by locals or visitors."
   ]
  }
 ],
 "metadata": {
  "kernelspec": {
   "display_name": "Python 3",
   "language": "python",
   "name": "python3"
  },
  "language_info": {
   "codemirror_mode": {
    "name": "ipython",
    "version": 3
   },
   "file_extension": ".py",
   "mimetype": "text/x-python",
   "name": "python",
   "nbconvert_exporter": "python",
   "pygments_lexer": "ipython3",
   "version": "3.7.4"
  }
 },
 "nbformat": 4,
 "nbformat_minor": 2
}
