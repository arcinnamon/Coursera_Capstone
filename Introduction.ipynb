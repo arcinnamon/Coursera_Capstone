{
 "cells": [
  {
   "cell_type": "markdown",
   "metadata": {},
   "source": [
    "# Introduction"
   ]
  },
  {
   "cell_type": "markdown",
   "metadata": {},
   "source": [
    "### Problem Statement"
   ]
  },
  {
   "cell_type": "markdown",
   "metadata": {},
   "source": [
    "A client looking to open a pizza restaurant in Toronto hired my firm (me) to recommend neighborhoods that may be favorable for such a venture. The client requested a list of five recommended neighborhoods that they would explore further."
   ]
  },
  {
   "cell_type": "markdown",
   "metadata": {},
   "source": [
    "### Background"
   ]
  },
  {
   "cell_type": "markdown",
   "metadata": {},
   "source": [
    "The client is confident that a new pizza restaurant will be successful given that (1) there is no nearby competition from existing pizza restaurants and (2) there is good online exposure of other businesses in the neighborhood. The client's reasoning is that a \"pizza-underserved\" area would benefit with a single pizza restaurant (theirs) rather than multiple competitive restaurants and that increased online exposure is important because the client believes that internet searches are the primary way consumers learn of new businesses."
   ]
  }
 ],
 "metadata": {
  "kernelspec": {
   "display_name": "Python 3",
   "language": "python",
   "name": "python3"
  },
  "language_info": {
   "codemirror_mode": {
    "name": "ipython",
    "version": 3
   },
   "file_extension": ".py",
   "mimetype": "text/x-python",
   "name": "python",
   "nbconvert_exporter": "python",
   "pygments_lexer": "ipython3",
   "version": "3.7.4"
  }
 },
 "nbformat": 4,
 "nbformat_minor": 2
}
